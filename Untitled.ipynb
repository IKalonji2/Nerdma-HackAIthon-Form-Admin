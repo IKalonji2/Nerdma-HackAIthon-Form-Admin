{
 "cells": [
  {
   "cell_type": "code",
   "execution_count": 2,
   "id": "90a9e49e",
   "metadata": {},
   "outputs": [
    {
     "name": "stdout",
     "output_type": "stream",
     "text": [
      "e6afe30fb92a2c33bf7fb94fae2e9a84842f617608ff9be671e2865564893ede\n"
     ]
    }
   ],
   "source": [
    "# This is how one can create a hashed access code\n",
    "import hashlib\n",
    "\n",
    "access_code = 'Kgotso_secret_access_code'\n",
    "hashed_access_code = hashlib.sha256(access_code.encode()).hexdigest()\n",
    "print(hashed_access_code)\n"
   ]
  },
  {
   "cell_type": "code",
   "execution_count": null,
   "id": "1e5747a3",
   "metadata": {},
   "outputs": [],
   "source": []
  }
 ],
 "metadata": {
  "kernelspec": {
   "display_name": "Python 3 (ipykernel)",
   "language": "python",
   "name": "python3"
  },
  "language_info": {
   "codemirror_mode": {
    "name": "ipython",
    "version": 3
   },
   "file_extension": ".py",
   "mimetype": "text/x-python",
   "name": "python",
   "nbconvert_exporter": "python",
   "pygments_lexer": "ipython3",
   "version": "3.10.12"
  }
 },
 "nbformat": 4,
 "nbformat_minor": 5
}
